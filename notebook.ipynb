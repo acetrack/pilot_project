{
 "cells": [
  {
   "cell_type": "code",
   "execution_count": null,
   "metadata": {},
   "outputs": [
    {
     "name": "stdout",
     "output_type": "stream",
     "text": [
      "The 4 Components of Nonviolent Communicationdeveloped by Marshall Rosenberg, Ph. D.Observation:  A description of ÒwhatÕs actually happeningÓ as reported by our senses (sight, hearing, touch, taste, and smell), plus our ÒinnerÓ senses (e.g. our inner voice, vi-sion, thoughts, etc.). ¥Direct, Sensory Experience¥ÒJust the facts.Ó ¥SpeciÞc to time and context. ¥The highest form of human intelligence. ¥Free of judgment, criticism or other forms of analysis. ¥The trigger of our experience. Key Distinction:  Observation vs. Observation Mixed with Evaluation Evaluations are ÒmoralÓ judgments of good~bad, right~wrong, appropriate~inappropriate that tend to Þxed or staticFeeling: Physical Sensations + Emotions ¥Feelings are universal. ¥The signals we receive from our body alerting us to the state of our needs.¥Feelings are composed of physical sensations (e.g. tight jaw, queasy stomach, smile, etc.) and/or emotions (e.g. sad, glad, mad, disappointment, frustration, guilt, etc.). Key Distinction:  Feeling vs. Thought ¥Thoughts are cognitive or mental, including beliefs, ideas and opinionsNeed:  Resources required to sustain and enrich life. ¥Needs are universal.¥Transcend cultural mores and conditioning. ¥Needs make no reference to any speciÞc person doing any speciÞc thing.¥ÒValuesÓ are generally equivalent to NeedsKey Distinction:  Need vs. Strategy¥A strategy is a speciÞc method to fulÞll a needRequest:  An opportunity to contribute to the well-being of ourself and/or others¥A concrete offering with the intention of contributing to fulÞlling a need. ¥Requests are speciÞc actions stated in the positive (what we DO want). ¥Immediately doable. ¥There are three types of requests:  C.  Clarity  B.  feedBack  A.  Action Key Distinctions:  Request vs Demand; Request vs Wish¥Demands include a threat of punishment or the promise of reward linked to a behavior¥Wishes tend to be vague, future oriented, and non-speciÞc©Jim & Jori Manske, CNVC Trainers in Nonviolent Communication  505.344.1305  nonviolentcommunicationr@gmail.comradicalcompassion.com     cnvc.org     nvc-nm.org \n"
     ]
    }
   ],
   "source": [
    "import PyPDF2\n",
    "\n",
    "PDFfilename = \"b.pdf\"\n",
    "fileObj = open(PDFfilename, \"rb\")\n",
    "pfr = PyPDF2.PdfFileReader(fileObj)\n",
    "\n",
    "for page in range(pfr.numPages):\n",
    "    pageObj = pfr.getPage(page)\n",
    "    print(pageObj.extractText())\n",
    "\n",
    "# pageObj = pfr.getPage(0)\n",
    "# print(pageObj.extractText())\n",
    "\n",
    "fileObj.close()"
   ]
  },
  {
   "cell_type": "code",
   "execution_count": 19,
   "metadata": {
    "collapsed": true
   },
   "outputs": [
    {
     "name": "stdout",
     "output_type": "stream",
     "text": [
      "The a.txt is text file.\nThe b.pdf is PDF file.\nThe d.ggg is not supported.\nThe ggg.txt is text file.\nThe bbb.PDF is PDF file.\n"
     ]
    }
   ],
   "source": [
    "a = [\"a.txt\", \"b.pdf\", 'd.ggg', 'ggg.txt', 'bbb.PDF']\n",
    "\n",
    "for file_name in range(len(a)):\n",
    "    if a[file_name].lower().endswith('.txt'):\n",
    "        print(\"The \" + a[file_name] + \" is text file.\")\n",
    "    elif a[file_name].lower().endswith('.pdf'):\n",
    "        print(\"The \" + a[file_name] + \" is PDF file.\")\n",
    "    else:\n",
    "        print(\"The \" + a[file_name] + \" is not supported.\")\n",
    "        \n",
    "\n"
   ]
  },
  {
   "cell_type": "code",
   "execution_count": null,
   "metadata": {},
   "outputs": [],
   "source": []
  }
 ],
 "metadata": {
  "kernelspec": {
   "display_name": "Python 2",
   "language": "python",
   "name": "python2"
  },
  "language_info": {
   "codemirror_mode": {
    "name": "ipython",
    "version": 2
   },
   "file_extension": ".py",
   "mimetype": "text/x-python",
   "name": "python",
   "nbconvert_exporter": "python",
   "pygments_lexer": "ipython2",
   "version": "2.7.6"
  }
 },
 "nbformat": 4,
 "nbformat_minor": 0
}
